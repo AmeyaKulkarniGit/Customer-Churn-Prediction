{
 "cells": [
  {
   "cell_type": "markdown",
   "id": "ed19eb11",
   "metadata": {},
   "source": [
    "<div style=\"background-color: #008080; padding: 20px;\">\n",
    "    <h1 style=\"color: white; font-family: Arial;\">Customer Churn Prediction</h1>\n",
    "</div>"
   ]
  },
  {
   "cell_type": "markdown",
   "id": "152595f7",
   "metadata": {},
   "source": [
    "### Table of Contents\n",
    "- [Data Information and Cleaning](#section-1)\n",
    "- [Exploratory Data Analysis](#section-2)\n",
    "- [Data Pre-processing for Machine Learning Model](#section-3)\n",
    "- [Logistic Regression](#section-4)\n",
    "- [Artificial Neural Network](#section-5)\n"
   ]
  },
  {
   "cell_type": "markdown",
   "id": "1ce0b364",
   "metadata": {},
   "source": [
    "Introduction:\n",
    "\n",
    "In today's highly competitive telecommunications industry, retaining customers is paramount to the success and profitability of service providers. The phenomenon of customers discontinuing their services with a telecom company, commonly known as \"customer churn,\" has become a critical concern. Customer churn not only impacts revenue but also undermines a company's reputation and market position. Therefore, understanding and predicting customer churn has become a strategic imperative for telecom companies.\n",
    "\n",
    "Link to the dataset - https://www.kaggle.com/datasets/blastchar/telco-customer-churn"
   ]
  },
  {
   "cell_type": "code",
   "execution_count": 1,
   "id": "c66a59f3",
   "metadata": {},
   "outputs": [],
   "source": [
    "#Importing libraries\n",
    "\n",
    "import pandas as pd\n",
    "from matplotlib import pyplot as plt\n",
    "import numpy as np\n",
    "import seaborn as sns"
   ]
  },
  {
   "cell_type": "code",
   "execution_count": 2,
   "id": "66387610",
   "metadata": {},
   "outputs": [],
   "source": [
    "#Reading the dataset\n",
    "df = pd.read_csv(\"Telco Customer Churn Dataset.csv\")"
   ]
  },
  {
   "cell_type": "markdown",
   "id": "e0e13fea",
   "metadata": {},
   "source": [
    "<div style=\"background-color: #000080; padding: 10px;\">\n",
    "    <h2 style=\"color: white;\">Data Information and Cleaning</h2>\n",
    "</div>\n",
    "<a id=\"section-1\"></a>\n",
    "\n",
    "\n"
   ]
  },
  {
   "cell_type": "code",
   "execution_count": 3,
   "id": "ba458148",
   "metadata": {},
   "outputs": [
    {
     "data": {
      "text/html": [
       "<div>\n",
       "<style scoped>\n",
       "    .dataframe tbody tr th:only-of-type {\n",
       "        vertical-align: middle;\n",
       "    }\n",
       "\n",
       "    .dataframe tbody tr th {\n",
       "        vertical-align: top;\n",
       "    }\n",
       "\n",
       "    .dataframe thead th {\n",
       "        text-align: right;\n",
       "    }\n",
       "</style>\n",
       "<table border=\"1\" class=\"dataframe\">\n",
       "  <thead>\n",
       "    <tr style=\"text-align: right;\">\n",
       "      <th></th>\n",
       "      <th>customerID</th>\n",
       "      <th>gender</th>\n",
       "      <th>SeniorCitizen</th>\n",
       "      <th>Partner</th>\n",
       "      <th>Dependents</th>\n",
       "      <th>tenure</th>\n",
       "      <th>PhoneService</th>\n",
       "      <th>MultipleLines</th>\n",
       "      <th>InternetService</th>\n",
       "      <th>OnlineSecurity</th>\n",
       "      <th>...</th>\n",
       "      <th>DeviceProtection</th>\n",
       "      <th>TechSupport</th>\n",
       "      <th>StreamingTV</th>\n",
       "      <th>StreamingMovies</th>\n",
       "      <th>Contract</th>\n",
       "      <th>PaperlessBilling</th>\n",
       "      <th>PaymentMethod</th>\n",
       "      <th>MonthlyCharges</th>\n",
       "      <th>TotalCharges</th>\n",
       "      <th>Churn</th>\n",
       "    </tr>\n",
       "  </thead>\n",
       "  <tbody>\n",
       "    <tr>\n",
       "      <th>0</th>\n",
       "      <td>7590-VHVEG</td>\n",
       "      <td>Female</td>\n",
       "      <td>0</td>\n",
       "      <td>Yes</td>\n",
       "      <td>No</td>\n",
       "      <td>1</td>\n",
       "      <td>No</td>\n",
       "      <td>No phone service</td>\n",
       "      <td>DSL</td>\n",
       "      <td>No</td>\n",
       "      <td>...</td>\n",
       "      <td>No</td>\n",
       "      <td>No</td>\n",
       "      <td>No</td>\n",
       "      <td>No</td>\n",
       "      <td>Month-to-month</td>\n",
       "      <td>Yes</td>\n",
       "      <td>Electronic check</td>\n",
       "      <td>29.85</td>\n",
       "      <td>29.85</td>\n",
       "      <td>No</td>\n",
       "    </tr>\n",
       "    <tr>\n",
       "      <th>1</th>\n",
       "      <td>5575-GNVDE</td>\n",
       "      <td>Male</td>\n",
       "      <td>0</td>\n",
       "      <td>No</td>\n",
       "      <td>No</td>\n",
       "      <td>34</td>\n",
       "      <td>Yes</td>\n",
       "      <td>No</td>\n",
       "      <td>DSL</td>\n",
       "      <td>Yes</td>\n",
       "      <td>...</td>\n",
       "      <td>Yes</td>\n",
       "      <td>No</td>\n",
       "      <td>No</td>\n",
       "      <td>No</td>\n",
       "      <td>One year</td>\n",
       "      <td>No</td>\n",
       "      <td>Mailed check</td>\n",
       "      <td>56.95</td>\n",
       "      <td>1889.5</td>\n",
       "      <td>No</td>\n",
       "    </tr>\n",
       "    <tr>\n",
       "      <th>2</th>\n",
       "      <td>3668-QPYBK</td>\n",
       "      <td>Male</td>\n",
       "      <td>0</td>\n",
       "      <td>No</td>\n",
       "      <td>No</td>\n",
       "      <td>2</td>\n",
       "      <td>Yes</td>\n",
       "      <td>No</td>\n",
       "      <td>DSL</td>\n",
       "      <td>Yes</td>\n",
       "      <td>...</td>\n",
       "      <td>No</td>\n",
       "      <td>No</td>\n",
       "      <td>No</td>\n",
       "      <td>No</td>\n",
       "      <td>Month-to-month</td>\n",
       "      <td>Yes</td>\n",
       "      <td>Mailed check</td>\n",
       "      <td>53.85</td>\n",
       "      <td>108.15</td>\n",
       "      <td>Yes</td>\n",
       "    </tr>\n",
       "    <tr>\n",
       "      <th>3</th>\n",
       "      <td>7795-CFOCW</td>\n",
       "      <td>Male</td>\n",
       "      <td>0</td>\n",
       "      <td>No</td>\n",
       "      <td>No</td>\n",
       "      <td>45</td>\n",
       "      <td>No</td>\n",
       "      <td>No phone service</td>\n",
       "      <td>DSL</td>\n",
       "      <td>Yes</td>\n",
       "      <td>...</td>\n",
       "      <td>Yes</td>\n",
       "      <td>Yes</td>\n",
       "      <td>No</td>\n",
       "      <td>No</td>\n",
       "      <td>One year</td>\n",
       "      <td>No</td>\n",
       "      <td>Bank transfer (automatic)</td>\n",
       "      <td>42.30</td>\n",
       "      <td>1840.75</td>\n",
       "      <td>No</td>\n",
       "    </tr>\n",
       "    <tr>\n",
       "      <th>4</th>\n",
       "      <td>9237-HQITU</td>\n",
       "      <td>Female</td>\n",
       "      <td>0</td>\n",
       "      <td>No</td>\n",
       "      <td>No</td>\n",
       "      <td>2</td>\n",
       "      <td>Yes</td>\n",
       "      <td>No</td>\n",
       "      <td>Fiber optic</td>\n",
       "      <td>No</td>\n",
       "      <td>...</td>\n",
       "      <td>No</td>\n",
       "      <td>No</td>\n",
       "      <td>No</td>\n",
       "      <td>No</td>\n",
       "      <td>Month-to-month</td>\n",
       "      <td>Yes</td>\n",
       "      <td>Electronic check</td>\n",
       "      <td>70.70</td>\n",
       "      <td>151.65</td>\n",
       "      <td>Yes</td>\n",
       "    </tr>\n",
       "  </tbody>\n",
       "</table>\n",
       "<p>5 rows × 21 columns</p>\n",
       "</div>"
      ],
      "text/plain": [
       "   customerID  gender  SeniorCitizen Partner Dependents  tenure PhoneService  \\\n",
       "0  7590-VHVEG  Female              0     Yes         No       1           No   \n",
       "1  5575-GNVDE    Male              0      No         No      34          Yes   \n",
       "2  3668-QPYBK    Male              0      No         No       2          Yes   \n",
       "3  7795-CFOCW    Male              0      No         No      45           No   \n",
       "4  9237-HQITU  Female              0      No         No       2          Yes   \n",
       "\n",
       "      MultipleLines InternetService OnlineSecurity  ... DeviceProtection  \\\n",
       "0  No phone service             DSL             No  ...               No   \n",
       "1                No             DSL            Yes  ...              Yes   \n",
       "2                No             DSL            Yes  ...               No   \n",
       "3  No phone service             DSL            Yes  ...              Yes   \n",
       "4                No     Fiber optic             No  ...               No   \n",
       "\n",
       "  TechSupport StreamingTV StreamingMovies        Contract PaperlessBilling  \\\n",
       "0          No          No              No  Month-to-month              Yes   \n",
       "1          No          No              No        One year               No   \n",
       "2          No          No              No  Month-to-month              Yes   \n",
       "3         Yes          No              No        One year               No   \n",
       "4          No          No              No  Month-to-month              Yes   \n",
       "\n",
       "               PaymentMethod MonthlyCharges  TotalCharges Churn  \n",
       "0           Electronic check          29.85         29.85    No  \n",
       "1               Mailed check          56.95        1889.5    No  \n",
       "2               Mailed check          53.85        108.15   Yes  \n",
       "3  Bank transfer (automatic)          42.30       1840.75    No  \n",
       "4           Electronic check          70.70        151.65   Yes  \n",
       "\n",
       "[5 rows x 21 columns]"
      ]
     },
     "execution_count": 3,
     "metadata": {},
     "output_type": "execute_result"
    }
   ],
   "source": [
    "#Looking at the first 5 rows of the dataset to get an idea what it contains\n",
    "df.head(5)"
   ]
  },
  {
   "cell_type": "markdown",
   "id": "8146be0a",
   "metadata": {},
   "source": [
    "The CustomerID would not add any value to our Analysis or to the Machine Learning model. So we drop that column."
   ]
  },
  {
   "cell_type": "code",
   "execution_count": 4,
   "id": "97978bab",
   "metadata": {},
   "outputs": [],
   "source": [
    "#Dropping the column\n",
    "df = df.drop('customerID' , axis='columns')"
   ]
  },
  {
   "cell_type": "code",
   "execution_count": 5,
   "id": "1e5d6dd8",
   "metadata": {},
   "outputs": [
    {
     "name": "stdout",
     "output_type": "stream",
     "text": [
      "The number of rows in the dataset are: 7043\n",
      "The number of columns in the dataset are: 20\n"
     ]
    }
   ],
   "source": [
    "#Number of rows and columns present in the dataset\n",
    "number_of_rows = df.shape[0]\n",
    "number_of_columns = df.shape[1]\n",
    "\n",
    "print(\"The number of rows in the dataset are:\",number_of_rows)\n",
    "print(\"The number of columns in the dataset are:\",number_of_columns)"
   ]
  },
  {
   "cell_type": "code",
   "execution_count": 6,
   "id": "b77a48d8",
   "metadata": {},
   "outputs": [
    {
     "name": "stdout",
     "output_type": "stream",
     "text": [
      "['gender', 'SeniorCitizen', 'Partner', 'Dependents', 'tenure', 'PhoneService', 'MultipleLines', 'InternetService', 'OnlineSecurity', 'OnlineBackup', 'DeviceProtection', 'TechSupport', 'StreamingTV', 'StreamingMovies', 'Contract', 'PaperlessBilling', 'PaymentMethod', 'MonthlyCharges', 'TotalCharges', 'Churn']\n"
     ]
    }
   ],
   "source": [
    "#Check what features are present in the dataset. For this we extract the column names\n",
    "column_names = df.columns.tolist()\n",
    "print(column_names)"
   ]
  },
  {
   "cell_type": "code",
   "execution_count": 7,
   "id": "3c7502e2",
   "metadata": {},
   "outputs": [
    {
     "name": "stdout",
     "output_type": "stream",
     "text": [
      "<class 'pandas.core.frame.DataFrame'>\n",
      "RangeIndex: 7043 entries, 0 to 7042\n",
      "Data columns (total 20 columns):\n",
      " #   Column            Non-Null Count  Dtype  \n",
      "---  ------            --------------  -----  \n",
      " 0   gender            7043 non-null   object \n",
      " 1   SeniorCitizen     7043 non-null   int64  \n",
      " 2   Partner           7043 non-null   object \n",
      " 3   Dependents        7043 non-null   object \n",
      " 4   tenure            7043 non-null   int64  \n",
      " 5   PhoneService      7043 non-null   object \n",
      " 6   MultipleLines     7043 non-null   object \n",
      " 7   InternetService   7043 non-null   object \n",
      " 8   OnlineSecurity    7043 non-null   object \n",
      " 9   OnlineBackup      7043 non-null   object \n",
      " 10  DeviceProtection  7043 non-null   object \n",
      " 11  TechSupport       7043 non-null   object \n",
      " 12  StreamingTV       7043 non-null   object \n",
      " 13  StreamingMovies   7043 non-null   object \n",
      " 14  Contract          7043 non-null   object \n",
      " 15  PaperlessBilling  7043 non-null   object \n",
      " 16  PaymentMethod     7043 non-null   object \n",
      " 17  MonthlyCharges    7043 non-null   float64\n",
      " 18  TotalCharges      7043 non-null   object \n",
      " 19  Churn             7043 non-null   object \n",
      "dtypes: float64(1), int64(2), object(17)\n",
      "memory usage: 1.1+ MB\n"
     ]
    }
   ],
   "source": [
    "#Information of the data available to us\n",
    "df.info()"
   ]
  },
  {
   "cell_type": "markdown",
   "id": "be4e9bc9",
   "metadata": {},
   "source": [
    "We notice that even though the 'TotalCharges' column should have the datatype of float, it has the 'object' datatype.\n",
    "So we will need to convert the 'object' datatype into the float datatype"
   ]
  },
  {
   "cell_type": "code",
   "execution_count": 8,
   "id": "efebc496",
   "metadata": {},
   "outputs": [
    {
     "name": "stdout",
     "output_type": "stream",
     "text": [
      "The number of rows with NaN values in the column TotalCharges are -  11\n"
     ]
    }
   ],
   "source": [
    "#Converting 'TotalCharges' column to the Numeric Datatype\n",
    "df['TotalCharges'] = pd.to_numeric(df['TotalCharges'], errors='coerce')\n",
    "\n",
    "print(\"The number of rows with NaN values in the column TotalCharges are - \",df['TotalCharges'].isna().sum())"
   ]
  },
  {
   "cell_type": "code",
   "execution_count": 9,
   "id": "c7874207",
   "metadata": {},
   "outputs": [],
   "source": [
    "#Dropping the rows with NaN values\n",
    "df.dropna(subset=['TotalCharges'], inplace=True)"
   ]
  },
  {
   "cell_type": "code",
   "execution_count": 10,
   "id": "21f26d0a",
   "metadata": {},
   "outputs": [
    {
     "name": "stdout",
     "output_type": "stream",
     "text": [
      "The number of rows in the dataset are: 7032\n",
      "The number of columns in the dataset are: 20\n"
     ]
    }
   ],
   "source": [
    "#Checking the shape of the new dataset\n",
    "#Number of rows and columns present in the dataset\n",
    "number_of_rows = df.shape[0]\n",
    "number_of_columns = df.shape[1]\n",
    "\n",
    "print(\"The number of rows in the dataset are:\",number_of_rows)\n",
    "print(\"The number of columns in the dataset are:\",number_of_columns)"
   ]
  },
  {
   "cell_type": "markdown",
   "id": "96e633ee",
   "metadata": {},
   "source": [
    "We have removed a total of 11 rows from the dataset.\n",
    "The original dataset had 7043 rows, and the new dataset has 7032 rows."
   ]
  },
  {
   "cell_type": "code",
   "execution_count": 11,
   "id": "c13785ef",
   "metadata": {},
   "outputs": [
    {
     "data": {
      "text/html": [
       "<div>\n",
       "<style scoped>\n",
       "    .dataframe tbody tr th:only-of-type {\n",
       "        vertical-align: middle;\n",
       "    }\n",
       "\n",
       "    .dataframe tbody tr th {\n",
       "        vertical-align: top;\n",
       "    }\n",
       "\n",
       "    .dataframe thead th {\n",
       "        text-align: right;\n",
       "    }\n",
       "</style>\n",
       "<table border=\"1\" class=\"dataframe\">\n",
       "  <thead>\n",
       "    <tr style=\"text-align: right;\">\n",
       "      <th></th>\n",
       "      <th>count</th>\n",
       "      <th>mean</th>\n",
       "      <th>std</th>\n",
       "      <th>min</th>\n",
       "      <th>25%</th>\n",
       "      <th>50%</th>\n",
       "      <th>75%</th>\n",
       "      <th>max</th>\n",
       "    </tr>\n",
       "  </thead>\n",
       "  <tbody>\n",
       "    <tr>\n",
       "      <th>SeniorCitizen</th>\n",
       "      <td>7032.0</td>\n",
       "      <td>0.162400</td>\n",
       "      <td>0.368844</td>\n",
       "      <td>0.00</td>\n",
       "      <td>0.0000</td>\n",
       "      <td>0.000</td>\n",
       "      <td>0.0000</td>\n",
       "      <td>1.00</td>\n",
       "    </tr>\n",
       "    <tr>\n",
       "      <th>tenure</th>\n",
       "      <td>7032.0</td>\n",
       "      <td>32.421786</td>\n",
       "      <td>24.545260</td>\n",
       "      <td>1.00</td>\n",
       "      <td>9.0000</td>\n",
       "      <td>29.000</td>\n",
       "      <td>55.0000</td>\n",
       "      <td>72.00</td>\n",
       "    </tr>\n",
       "    <tr>\n",
       "      <th>MonthlyCharges</th>\n",
       "      <td>7032.0</td>\n",
       "      <td>64.798208</td>\n",
       "      <td>30.085974</td>\n",
       "      <td>18.25</td>\n",
       "      <td>35.5875</td>\n",
       "      <td>70.350</td>\n",
       "      <td>89.8625</td>\n",
       "      <td>118.75</td>\n",
       "    </tr>\n",
       "    <tr>\n",
       "      <th>TotalCharges</th>\n",
       "      <td>7032.0</td>\n",
       "      <td>2283.300441</td>\n",
       "      <td>2266.771362</td>\n",
       "      <td>18.80</td>\n",
       "      <td>401.4500</td>\n",
       "      <td>1397.475</td>\n",
       "      <td>3794.7375</td>\n",
       "      <td>8684.80</td>\n",
       "    </tr>\n",
       "  </tbody>\n",
       "</table>\n",
       "</div>"
      ],
      "text/plain": [
       "                 count         mean          std    min       25%       50%  \\\n",
       "SeniorCitizen   7032.0     0.162400     0.368844   0.00    0.0000     0.000   \n",
       "tenure          7032.0    32.421786    24.545260   1.00    9.0000    29.000   \n",
       "MonthlyCharges  7032.0    64.798208    30.085974  18.25   35.5875    70.350   \n",
       "TotalCharges    7032.0  2283.300441  2266.771362  18.80  401.4500  1397.475   \n",
       "\n",
       "                      75%      max  \n",
       "SeniorCitizen      0.0000     1.00  \n",
       "tenure            55.0000    72.00  \n",
       "MonthlyCharges    89.8625   118.75  \n",
       "TotalCharges    3794.7375  8684.80  "
      ]
     },
     "execution_count": 11,
     "metadata": {},
     "output_type": "execute_result"
    }
   ],
   "source": [
    "#Description of the columns in the data that contain numeric values\n",
    "df.describe().T"
   ]
  },
  {
   "cell_type": "code",
   "execution_count": 12,
   "id": "ea20c237",
   "metadata": {},
   "outputs": [
    {
     "data": {
      "text/plain": [
       "gender              0\n",
       "SeniorCitizen       0\n",
       "Partner             0\n",
       "Dependents          0\n",
       "tenure              0\n",
       "PhoneService        0\n",
       "MultipleLines       0\n",
       "InternetService     0\n",
       "OnlineSecurity      0\n",
       "OnlineBackup        0\n",
       "DeviceProtection    0\n",
       "TechSupport         0\n",
       "StreamingTV         0\n",
       "StreamingMovies     0\n",
       "Contract            0\n",
       "PaperlessBilling    0\n",
       "PaymentMethod       0\n",
       "MonthlyCharges      0\n",
       "TotalCharges        0\n",
       "Churn               0\n",
       "dtype: int64"
      ]
     },
     "execution_count": 12,
     "metadata": {},
     "output_type": "execute_result"
    }
   ],
   "source": [
    "#Checking for Null Values in the Dataset\n",
    "df.isnull().sum()"
   ]
  },
  {
   "cell_type": "markdown",
   "id": "30613f79",
   "metadata": {},
   "source": [
    "From the output of the above cell, we see that there are no further null values detected in the dataset."
   ]
  },
  {
   "cell_type": "markdown",
   "id": "0918c958",
   "metadata": {},
   "source": [
    "We will now see the values of different features corresponding to a single row in the dataset. In this case, we will choose row number 200 and see the values that different features have in this row"
   ]
  },
  {
   "cell_type": "code",
   "execution_count": 13,
   "id": "5ab62d52",
   "metadata": {},
   "outputs": [
    {
     "data": {
      "text/plain": [
       "gender                               Female\n",
       "SeniorCitizen                             0\n",
       "Partner                                 Yes\n",
       "Dependents                               No\n",
       "tenure                                   27\n",
       "PhoneService                            Yes\n",
       "MultipleLines                            No\n",
       "InternetService                 Fiber optic\n",
       "OnlineSecurity                          Yes\n",
       "OnlineBackup                             No\n",
       "DeviceProtection                         No\n",
       "TechSupport                             Yes\n",
       "StreamingTV                             Yes\n",
       "StreamingMovies                         Yes\n",
       "Contract                           One year\n",
       "PaperlessBilling                        Yes\n",
       "PaymentMethod       Credit card (automatic)\n",
       "MonthlyCharges                        101.9\n",
       "TotalCharges                        2681.15\n",
       "Churn                                    No\n",
       "Name: 200, dtype: object"
      ]
     },
     "execution_count": 13,
     "metadata": {},
     "output_type": "execute_result"
    }
   ],
   "source": [
    "df.iloc[200]"
   ]
  },
  {
   "cell_type": "markdown",
   "id": "d85f4116",
   "metadata": {},
   "source": [
    "<div style=\"background-color: #000080; padding: 10px;\">\n",
    "    <h2 style=\"color: white;\">Exploratory Data Analysis</h2>\n",
    "</div>\n",
    "<a id=\"section-2\"></a>"
   ]
  },
  {
   "cell_type": "code",
   "execution_count": 14,
   "id": "3d124f6f",
   "metadata": {},
   "outputs": [
    {
     "data": {
      "image/png": "[encoded data removed]",
      "text/plain": [
       "<Figure size 600x400 with 1 Axes>"
      ]
     },
     "metadata": {},
     "output_type": "display_data"
    }
   ],
   "source": [
    "churn_counts = df['Churn'].value_counts()[1]\n",
    "not_churn_counts = df['Churn'].value_counts()[0]\n",
    "\n",
    "plt.figure(figsize=(6, 4))\n",
    "\n",
    "#Plotting the result in a bar graph\n",
    "categories = ['Churn' , 'Not Churn']\n",
    "values = [churn_counts , not_churn_counts]\n",
    "plt.bar(categories, values, color=['green','red'])\n",
    "\n",
    "# Annotate bars with numeric values\n",
    "for i, value in enumerate(values):\n",
    "    plt.text(categories[i], values[i] + 1, str(value), ha='center')\n",
    "\n",
    "# Add labels and title\n",
    "plt.xlabel('Churn or Not Churn')\n",
    "plt.ylabel('Number of Customers')\n",
    "plt.title('Number of Customers - Churn v/s Not Churn')\n",
    "\n",
    "# Display the graph\n",
    "plt.show()"
   ]
  },
  {
   "cell_type": "markdown",
   "id": "37a9d2b1",
   "metadata": {},
   "source": [
    "In the above cell output we can see that the number of customers that stay with the company and use their services (5174) is much larger than the number of customers who leave the company's services (1869). This would create a data imbalance which can lead to the predictions of a machine learning model to be biased towards one class."
   ]
  },
  {
   "cell_type": "code",
   "execution_count": 15,
   "id": "4a312a0b",
   "metadata": {},
   "outputs": [
    {
     "data": {
      "image/png": "[encoded data removed]",
      "text/plain": [
       "<Figure size 500x500 with 2 Axes>"
      ]
     },
     "metadata": {},
     "output_type": "display_data"
    }
   ],
   "source": [
    "colors = ['#E94B3C','#2D2926']\n",
    "\n",
    "churn = df[df['Churn'] == 'Yes'].describe().T\n",
    "not_churn = df[df['Churn'] == 'No'].describe().T\n",
    "\n",
    "fig,ax = plt.subplots(nrows = 1,ncols = 2,figsize = (5,5))\n",
    "plt.subplot(1,2,1)\n",
    "sns.heatmap(churn[['mean']],annot = True,cmap = colors,linewidths = 0.4,linecolor = 'black',cbar = False,fmt = '.2f')\n",
    "plt.title('Churned Customers');\n",
    "\n",
    "plt.subplot(1,2,2)\n",
    "sns.heatmap(not_churn[['mean']],annot = True,cmap = colors,linewidths = 0.4,linecolor = 'black',cbar = False,fmt = '.2f',)\n",
    "plt.title('Not_Churned Customers');\n",
    "\n",
    "fig.tight_layout(pad = 0)"
   ]
  },
  {
   "cell_type": "markdown",
   "id": "377a5735",
   "metadata": {},
   "source": [
    "In the above visualisation, we observe that the TotalCharges for the customers who stay are much higher, also the tenure of the customers who leave the company's services are must lesser than the customers who stay with the company.\n",
    "\n",
    "Monthly charges for the customers who stay with the company are lesser than those that leave the company's services."
   ]
  },
  {
   "cell_type": "code",
   "execution_count": 16,
   "id": "176d0118",
   "metadata": {},
   "outputs": [
    {
     "data": {
      "image/png": "[encoded data removed]",
      "text/plain": [
       "<Figure size 640x480 with 1 Axes>"
      ]
     },
     "metadata": {},
     "output_type": "display_data"
    }
   ],
   "source": [
    "# Count the occurrences of 'Yes' in 'Dependents' when 'Churn' is 'Yes'\n",
    "count_yes_dependents = df[df['Churn'] == 'Yes']['Dependents'].value_counts().get('Yes', 0)\n",
    "count_no_dependents = df[df['Churn'] == 'Yes']['Dependents'].value_counts().get('No', 0)\n",
    "\n",
    "#Plotting the values\n",
    "categories = ['Churn with dependents' , 'Churn without dependents']\n",
    "values = [count_yes_dependents , count_no_dependents]\n",
    "plt.bar(categories, values , width = 0.5, color=['green','red'])\n",
    "\n",
    "# Annotate bars with numeric values\n",
    "for i, value in enumerate(values):\n",
    "    plt.text(categories[i], values[i] + 1, str(value), ha='center')\n",
    "\n",
    "# Add title\n",
    "plt.title('Number of Customers - Churn with dependents v/s Churn without dependents')\n",
    "\n",
    "# Display the graph\n",
    "plt.show()"
   ]
  },
  {
   "cell_type": "markdown",
   "id": "ff0c4e59",
   "metadata": {},
   "source": [
    "As we can see from the visulisation above, Out of the total customers that leave the company's services, chances of a customer churning are much higher for customers who are without any dependents."
   ]
  },
  {
   "cell_type": "code",
   "execution_count": 17,
   "id": "654cd582",
   "metadata": {},
   "outputs": [
    {
     "data": {
      "image/png": "[encoded data removed]",
      "text/plain": [
       "<Figure size 640x480 with 1 Axes>"
      ]
     },
     "metadata": {},
     "output_type": "display_data"
    }
   ],
   "source": [
    "# Count the occurrences of 'Yes' in 'Partner' when 'Churn' is 'Yes'\n",
    "count_yes_partner = df[df['Churn'] == 'Yes']['Partner'].value_counts().get('Yes', 0)\n",
    "count_no_partner = df[df['Churn'] == 'Yes']['Partner'].value_counts().get('No', 0)\n",
    "\n",
    "#Plotting the values\n",
    "categories = ['Churn with partner' , 'Churn without partner']\n",
    "values = [count_yes_partner , count_no_partner]\n",
    "plt.bar(categories, values , width = 0.5, color=['green','red'])\n",
    "\n",
    "# Annotate bars with numeric values\n",
    "for i, value in enumerate(values):\n",
    "    plt.text(categories[i], values[i] + 1, str(value), ha='center')\n",
    "\n",
    "# Add title\n",
    "plt.title('Number of Customers - Churn with partner v/s Churn without partner')\n",
    "\n",
    "# Display the graph\n",
    "plt.show()"
   ]
  },
  {
   "cell_type": "markdown",
   "id": "6844da0a",
   "metadata": {},
   "source": [
    "From the output of the above cell, we notice that the customers who have a partner are much more likely to continue with the compnay's services than the customers that do not."
   ]
  },
  {
   "cell_type": "code",
   "execution_count": 18,
   "id": "e83da2b2",
   "metadata": {},
   "outputs": [
    {
     "data": {
      "image/png": "[encoded data removed]",
      "text/plain": [
       "<Figure size 800x400 with 2 Axes>"
      ]
     },
     "metadata": {},
     "output_type": "display_data"
    }
   ],
   "source": [
    "# Filter the DataFrame for Churn = 'Yes' and 'No'\n",
    "churn_yes = df[df['Churn'] == 'Yes']\n",
    "churn_no = df[df['Churn'] == 'No']\n",
    "\n",
    "# Count the occurrences of each InternetService category for Churn = 'Yes' and 'No'\n",
    "counts_yes = churn_yes['InternetService'].value_counts()\n",
    "counts_no = churn_no['InternetService'].value_counts()\n",
    "\n",
    "# Create two subplots for the pie charts\n",
    "fig, (ax1, ax2) = plt.subplots(1, 2, figsize=(8, 4))\n",
    "\n",
    "# Pie chart for Churn = 'Yes'\n",
    "ax1.pie(counts_yes, labels=counts_yes.index, autopct='%1.1f%%', startangle=90)\n",
    "ax1.set_title('Churn = Yes')\n",
    "\n",
    "# Pie chart for Churn = 'No'\n",
    "ax2.pie(counts_no, labels=counts_no.index, autopct='%1.1f%%', startangle=90)\n",
    "ax2.set_title('Churn = No')\n",
    "\n",
    "# Display the pie charts\n",
    "plt.tight_layout()\n",
    "plt.show()"
   ]
  },
  {
   "cell_type": "code",
   "execution_count": 19,
   "id": "c28383a7",
   "metadata": {},
   "outputs": [
    {
     "data": {
      "image/png": "[encoded data removed]",
      "text/plain": [
       "<Figure size 1200x400 with 2 Axes>"
      ]
     },
     "metadata": {},
     "output_type": "display_data"
    }
   ],
   "source": [
    "# Filter the DataFrame for Churn = 'Yes' and 'No'\n",
    "churn_yes = df[df['Churn'] == 'Yes']\n",
    "churn_no = df[df['Churn'] == 'No']\n",
    "\n",
    "# Count the occurrences of each Contract category for Churn = 'Yes' and 'No'\n",
    "counts_yes = churn_yes['Contract'].value_counts()\n",
    "counts_no = churn_no['Contract'].value_counts()\n",
    "\n",
    "# Create two subplots for the pie charts\n",
    "fig, (ax1, ax2) = plt.subplots(1, 2, figsize=(12, 4))\n",
    "\n",
    "# Pie chart for Churn = 'Yes'\n",
    "ax1.pie(counts_yes, labels=counts_yes.index, autopct='%1.1f%%', startangle=90)\n",
    "ax1.set_title('Churn = Yes')\n",
    "\n",
    "# Pie chart for Churn = 'No'\n",
    "ax2.pie(counts_no, labels=counts_no.index, autopct='%1.1f%%', startangle=90)\n",
    "ax2.set_title('Churn = No')\n",
    "\n",
    "plt.tight_layout()\n",
    "plt.show()"
   ]
  },
  {
   "cell_type": "markdown",
   "id": "7567d553",
   "metadata": {},
   "source": [
    "We notice that a lot of customer who have churn = Yes (leave the services of the company) have a month- month contract with the company."
   ]
  },
  {
   "cell_type": "markdown",
   "id": "f1bae9b6",
   "metadata": {},
   "source": [
    "<div style=\"background-color: #000080; padding: 10px;\">\n",
    "    <h2 style=\"color: white;\">Data Pre-processing for Machine Learning Model</h2>\n",
    "</div>\n",
    "<a id=\"section-3\"></a>"
   ]
  },
  {
   "cell_type": "code",
   "execution_count": 20,
   "id": "fbda52ea",
   "metadata": {},
   "outputs": [
    {
     "name": "stdout",
     "output_type": "stream",
     "text": [
      "gender :\t ['Female' 'Male']\n",
      "SeniorCitizen :\t [0 1]\n",
      "Partner :\t ['Yes' 'No']\n",
      "Dependents :\t ['No' 'Yes']\n",
      "tenure :\t [ 1 34  2 45  8 22 10 28 62 13 16 58 49 25 69 52 71 21 12 30 47 72 17 27\n",
      "  5 46 11 70 63 43 15 60 18 66  9  3 31 50 64 56  7 42 35 48 29 65 38 68\n",
      " 32 55 37 36 41  6  4 33 67 23 57 61 14 20 53 40 59 24 44 19 54 51 26 39]\n",
      "PhoneService :\t ['No' 'Yes']\n",
      "MultipleLines :\t ['No phone service' 'No' 'Yes']\n",
      "InternetService :\t ['DSL' 'Fiber optic' 'No']\n",
      "OnlineSecurity :\t ['No' 'Yes' 'No internet service']\n",
      "OnlineBackup :\t ['Yes' 'No' 'No internet service']\n",
      "DeviceProtection :\t ['No' 'Yes' 'No internet service']\n",
      "TechSupport :\t ['No' 'Yes' 'No internet service']\n",
      "StreamingTV :\t ['No' 'Yes' 'No internet service']\n",
      "StreamingMovies :\t ['No' 'Yes' 'No internet service']\n",
      "Contract :\t ['Month-to-month' 'One year' 'Two year']\n",
      "PaperlessBilling :\t ['Yes' 'No']\n",
      "PaymentMethod :\t ['Electronic check' 'Mailed check' 'Bank transfer (automatic)'\n",
      " 'Credit card (automatic)']\n",
      "MonthlyCharges :\t [29.85 56.95 53.85 ... 63.1  44.2  78.7 ]\n",
      "TotalCharges :\t [  29.85 1889.5   108.15 ...  346.45  306.6  6844.5 ]\n",
      "Churn :\t ['No' 'Yes']\n"
     ]
    }
   ],
   "source": [
    "#We look at the unique values that are present in each column of the dataset.\n",
    "for column in df:\n",
    "  print(column , \":\\t\" , df[column].unique())"
   ]
  },
  {
   "cell_type": "markdown",
   "id": "6752acf2",
   "metadata": {},
   "source": [
    "A machine learning / deep learning models would not accept values with the object data type. We would need to convert this to a numeric data type.\n",
    "\n",
    "So first let us look at the columns which contain the object data type"
   ]
  },
  {
   "cell_type": "code",
   "execution_count": 21,
   "id": "7ce067bc",
   "metadata": {},
   "outputs": [
    {
     "name": "stdout",
     "output_type": "stream",
     "text": [
      "gender :\t ['Female' 'Male']\n",
      "Partner :\t ['Yes' 'No']\n",
      "Dependents :\t ['No' 'Yes']\n",
      "PhoneService :\t ['No' 'Yes']\n",
      "MultipleLines :\t ['No phone service' 'No' 'Yes']\n",
      "InternetService :\t ['DSL' 'Fiber optic' 'No']\n",
      "OnlineSecurity :\t ['No' 'Yes' 'No internet service']\n",
      "OnlineBackup :\t ['Yes' 'No' 'No internet service']\n",
      "DeviceProtection :\t ['No' 'Yes' 'No internet service']\n",
      "TechSupport :\t ['No' 'Yes' 'No internet service']\n",
      "StreamingTV :\t ['No' 'Yes' 'No internet service']\n",
      "StreamingMovies :\t ['No' 'Yes' 'No internet service']\n",
      "Contract :\t ['Month-to-month' 'One year' 'Two year']\n",
      "PaperlessBilling :\t ['Yes' 'No']\n",
      "PaymentMethod :\t ['Electronic check' 'Mailed check' 'Bank transfer (automatic)'\n",
      " 'Credit card (automatic)']\n",
      "Churn :\t ['No' 'Yes']\n"
     ]
    }
   ],
   "source": [
    "#We now see only the columns which have an object datatype stored in them\n",
    "\n",
    "def print_unique_col_values(df):\n",
    "  for column in df:\n",
    "    if df[column].dtype == 'object':\n",
    "      print(f\"{column} :\\t {df[column].unique()}\")\n",
    "\n",
    "print_unique_col_values(df)"
   ]
  },
  {
   "cell_type": "markdown",
   "id": "d2ff4426",
   "metadata": {},
   "source": [
    "In the above cell output we see that the column OnlineSecurity has a unique value of 'No internet service'. This is also the case for the columns OnlineBackup , DeviceProtection , TechSupport , StreamingTV , StreamingMovies\n",
    "\n",
    "In a similar case, the column 'MultipleLines' contains the value \"No phone service\"\n",
    "\n",
    "In all these case we will replace the 'No internet service' and ' No phone service\" with the simple 'No'"
   ]
  },
  {
   "cell_type": "code",
   "execution_count": 22,
   "id": "3af355d2",
   "metadata": {},
   "outputs": [],
   "source": [
    "df.replace(\"No internet service\" , \"No\" , inplace=True)\n",
    "df.replace(\"No phone service\" , \"No\" , inplace=True)"
   ]
  },
  {
   "cell_type": "code",
   "execution_count": 23,
   "id": "ab6b806f",
   "metadata": {},
   "outputs": [
    {
     "name": "stdout",
     "output_type": "stream",
     "text": [
      "gender :\t ['Female' 'Male']\n",
      "Partner :\t ['Yes' 'No']\n",
      "Dependents :\t ['No' 'Yes']\n",
      "PhoneService :\t ['No' 'Yes']\n",
      "MultipleLines :\t ['No' 'Yes']\n",
      "InternetService :\t ['DSL' 'Fiber optic' 'No']\n",
      "OnlineSecurity :\t ['No' 'Yes']\n",
      "OnlineBackup :\t ['Yes' 'No']\n",
      "DeviceProtection :\t ['No' 'Yes']\n",
      "TechSupport :\t ['No' 'Yes']\n",
      "StreamingTV :\t ['No' 'Yes']\n",
      "StreamingMovies :\t ['No' 'Yes']\n",
      "Contract :\t ['Month-to-month' 'One year' 'Two year']\n",
      "PaperlessBilling :\t ['Yes' 'No']\n",
      "PaymentMethod :\t ['Electronic check' 'Mailed check' 'Bank transfer (automatic)'\n",
      " 'Credit card (automatic)']\n",
      "Churn :\t ['No' 'Yes']\n"
     ]
    }
   ],
   "source": [
    "#We again check the unique values in each column which has the object data type\n",
    "print_unique_col_values(df)"
   ]
  },
  {
   "cell_type": "markdown",
   "id": "39c0eba4",
   "metadata": {},
   "source": [
    "We will now convert the \"Yes\" and \"No\" to 0 and 1 values"
   ]
  },
  {
   "cell_type": "code",
   "execution_count": 24,
   "id": "da9eb1cf",
   "metadata": {},
   "outputs": [],
   "source": [
    "yes_no_columns = ['Partner' , 'Dependents' , 'PhoneService' , 'MultipleLines' , 'OnlineSecurity' ,\n",
    "                  'OnlineBackup' , 'DeviceProtection' , 'TechSupport' , 'StreamingTV' , 'StreamingMovies' , 'PaperlessBilling' , 'Churn']\n",
    "\n",
    "for col in yes_no_columns:\n",
    "  df[col].replace({'Yes':1 , 'No':0} , inplace=True)"
   ]
  },
  {
   "cell_type": "code",
   "execution_count": 25,
   "id": "eee8f617",
   "metadata": {},
   "outputs": [
    {
     "name": "stdout",
     "output_type": "stream",
     "text": [
      "gender :\t ['Female' 'Male']\n",
      "InternetService :\t ['DSL' 'Fiber optic' 'No']\n",
      "Contract :\t ['Month-to-month' 'One year' 'Two year']\n",
      "PaymentMethod :\t ['Electronic check' 'Mailed check' 'Bank transfer (automatic)'\n",
      " 'Credit card (automatic)']\n"
     ]
    }
   ],
   "source": [
    "#We again check the unique values in each column which has the object data type\n",
    "print_unique_col_values(df)"
   ]
  },
  {
   "cell_type": "markdown",
   "id": "5d6f604d",
   "metadata": {},
   "source": [
    "We have a column named \"gender\" which has the values \"Female\" and \"Male\". We replace both of them with 0 and 1"
   ]
  },
  {
   "cell_type": "code",
   "execution_count": 26,
   "id": "ed1f3e6b",
   "metadata": {},
   "outputs": [],
   "source": [
    "df[\"gender\"].replace({'Female':1 , 'Male':0} , inplace=True)"
   ]
  },
  {
   "cell_type": "code",
   "execution_count": 27,
   "id": "d6e4a490",
   "metadata": {},
   "outputs": [
    {
     "name": "stdout",
     "output_type": "stream",
     "text": [
      "InternetService :\t ['DSL' 'Fiber optic' 'No']\n",
      "Contract :\t ['Month-to-month' 'One year' 'Two year']\n",
      "PaymentMethod :\t ['Electronic check' 'Mailed check' 'Bank transfer (automatic)'\n",
      " 'Credit card (automatic)']\n"
     ]
    }
   ],
   "source": [
    "#We again check the unique values in each column which has the object data type\n",
    "print_unique_col_values(df)"
   ]
  },
  {
   "cell_type": "markdown",
   "id": "1500ec03",
   "metadata": {},
   "source": [
    "In the above cell output we observe that all the three columns listed above have more than 2 fields as their values.\n",
    "\n",
    "So converting the values to 0 and 1 would not work in this case.\n",
    "\n",
    "To handle these columns we perform \"one hot encoding\""
   ]
  },
  {
   "cell_type": "code",
   "execution_count": 28,
   "id": "224cedf3",
   "metadata": {},
   "outputs": [],
   "source": [
    "#Doing one hot encoding on the three columns\n",
    "df = pd.get_dummies(data=df , columns = ['InternetService' , 'Contract' , 'PaymentMethod'])"
   ]
  },
  {
   "cell_type": "code",
   "execution_count": 29,
   "id": "549f9557",
   "metadata": {},
   "outputs": [
    {
     "data": {
      "text/html": [
       "<div>\n",
       "<style scoped>\n",
       "    .dataframe tbody tr th:only-of-type {\n",
       "        vertical-align: middle;\n",
       "    }\n",
       "\n",
       "    .dataframe tbody tr th {\n",
       "        vertical-align: top;\n",
       "    }\n",
       "\n",
       "    .dataframe thead th {\n",
       "        text-align: right;\n",
       "    }\n",
       "</style>\n",
       "<table border=\"1\" class=\"dataframe\">\n",
       "  <thead>\n",
       "    <tr style=\"text-align: right;\">\n",
       "      <th></th>\n",
       "      <th>gender</th>\n",
       "      <th>SeniorCitizen</th>\n",
       "      <th>Partner</th>\n",
       "      <th>Dependents</th>\n",
       "      <th>tenure</th>\n",
       "      <th>PhoneService</th>\n",
       "      <th>MultipleLines</th>\n",
       "      <th>OnlineSecurity</th>\n",
       "      <th>OnlineBackup</th>\n",
       "      <th>DeviceProtection</th>\n",
       "      <th>...</th>\n",
       "      <th>InternetService_DSL</th>\n",
       "      <th>InternetService_Fiber optic</th>\n",
       "      <th>InternetService_No</th>\n",
       "      <th>Contract_Month-to-month</th>\n",
       "      <th>Contract_One year</th>\n",
       "      <th>Contract_Two year</th>\n",
       "      <th>PaymentMethod_Bank transfer (automatic)</th>\n",
       "      <th>PaymentMethod_Credit card (automatic)</th>\n",
       "      <th>PaymentMethod_Electronic check</th>\n",
       "      <th>PaymentMethod_Mailed check</th>\n",
       "    </tr>\n",
       "  </thead>\n",
       "  <tbody>\n",
       "    <tr>\n",
       "      <th>514</th>\n",
       "      <td>0</td>\n",
       "      <td>0</td>\n",
       "      <td>0</td>\n",
       "      <td>0</td>\n",
       "      <td>30</td>\n",
       "      <td>1</td>\n",
       "      <td>1</td>\n",
       "      <td>1</td>\n",
       "      <td>1</td>\n",
       "      <td>1</td>\n",
       "      <td>...</td>\n",
       "      <td>0</td>\n",
       "      <td>1</td>\n",
       "      <td>0</td>\n",
       "      <td>1</td>\n",
       "      <td>0</td>\n",
       "      <td>0</td>\n",
       "      <td>0</td>\n",
       "      <td>1</td>\n",
       "      <td>0</td>\n",
       "      <td>0</td>\n",
       "    </tr>\n",
       "    <tr>\n",
       "      <th>4647</th>\n",
       "      <td>0</td>\n",
       "      <td>0</td>\n",
       "      <td>1</td>\n",
       "      <td>1</td>\n",
       "      <td>4</td>\n",
       "      <td>1</td>\n",
       "      <td>0</td>\n",
       "      <td>0</td>\n",
       "      <td>0</td>\n",
       "      <td>0</td>\n",
       "      <td>...</td>\n",
       "      <td>1</td>\n",
       "      <td>0</td>\n",
       "      <td>0</td>\n",
       "      <td>1</td>\n",
       "      <td>0</td>\n",
       "      <td>0</td>\n",
       "      <td>0</td>\n",
       "      <td>0</td>\n",
       "      <td>0</td>\n",
       "      <td>1</td>\n",
       "    </tr>\n",
       "    <tr>\n",
       "      <th>2391</th>\n",
       "      <td>0</td>\n",
       "      <td>0</td>\n",
       "      <td>0</td>\n",
       "      <td>0</td>\n",
       "      <td>8</td>\n",
       "      <td>1</td>\n",
       "      <td>1</td>\n",
       "      <td>0</td>\n",
       "      <td>0</td>\n",
       "      <td>0</td>\n",
       "      <td>...</td>\n",
       "      <td>1</td>\n",
       "      <td>0</td>\n",
       "      <td>0</td>\n",
       "      <td>1</td>\n",
       "      <td>0</td>\n",
       "      <td>0</td>\n",
       "      <td>0</td>\n",
       "      <td>0</td>\n",
       "      <td>1</td>\n",
       "      <td>0</td>\n",
       "    </tr>\n",
       "    <tr>\n",
       "      <th>4331</th>\n",
       "      <td>0</td>\n",
       "      <td>0</td>\n",
       "      <td>0</td>\n",
       "      <td>0</td>\n",
       "      <td>71</td>\n",
       "      <td>1</td>\n",
       "      <td>1</td>\n",
       "      <td>0</td>\n",
       "      <td>0</td>\n",
       "      <td>0</td>\n",
       "      <td>...</td>\n",
       "      <td>0</td>\n",
       "      <td>0</td>\n",
       "      <td>1</td>\n",
       "      <td>0</td>\n",
       "      <td>0</td>\n",
       "      <td>1</td>\n",
       "      <td>1</td>\n",
       "      <td>0</td>\n",
       "      <td>0</td>\n",
       "      <td>0</td>\n",
       "    </tr>\n",
       "  </tbody>\n",
       "</table>\n",
       "<p>4 rows × 27 columns</p>\n",
       "</div>"
      ],
      "text/plain": [
       "      gender  SeniorCitizen  Partner  Dependents  tenure  PhoneService  \\\n",
       "514        0              0        0           0      30             1   \n",
       "4647       0              0        1           1       4             1   \n",
       "2391       0              0        0           0       8             1   \n",
       "4331       0              0        0           0      71             1   \n",
       "\n",
       "      MultipleLines  OnlineSecurity  OnlineBackup  DeviceProtection  ...  \\\n",
       "514               1               1             1                 1  ...   \n",
       "4647              0               0             0                 0  ...   \n",
       "2391              1               0             0                 0  ...   \n",
       "4331              1               0             0                 0  ...   \n",
       "\n",
       "      InternetService_DSL  InternetService_Fiber optic  InternetService_No  \\\n",
       "514                     0                            1                   0   \n",
       "4647                    1                            0                   0   \n",
       "2391                    1                            0                   0   \n",
       "4331                    0                            0                   1   \n",
       "\n",
       "      Contract_Month-to-month  Contract_One year  Contract_Two year  \\\n",
       "514                         1                  0                  0   \n",
       "4647                        1                  0                  0   \n",
       "2391                        1                  0                  0   \n",
       "4331                        0                  0                  1   \n",
       "\n",
       "      PaymentMethod_Bank transfer (automatic)  \\\n",
       "514                                         0   \n",
       "4647                                        0   \n",
       "2391                                        0   \n",
       "4331                                        1   \n",
       "\n",
       "      PaymentMethod_Credit card (automatic)  PaymentMethod_Electronic check  \\\n",
       "514                                       1                               0   \n",
       "4647                                      0                               0   \n",
       "2391                                      0                               1   \n",
       "4331                                      0                               0   \n",
       "\n",
       "      PaymentMethod_Mailed check  \n",
       "514                            0  \n",
       "4647                           1  \n",
       "2391                           0  \n",
       "4331                           0  \n",
       "\n",
       "[4 rows x 27 columns]"
      ]
     },
     "execution_count": 29,
     "metadata": {},
     "output_type": "execute_result"
    }
   ],
   "source": [
    "#Now we look at a random sample of 4 rows in the dataset\n",
    "df.sample(4)"
   ]
  },
  {
   "cell_type": "markdown",
   "id": "8912d213",
   "metadata": {},
   "source": [
    "In the above cell output we observe that all the column values are now numeric.\n",
    "\n",
    "We also observe that three separate columns have been created from 'InternetService' and 'Contract' columns and 4 separate rows have been created for the 'PaymentMethod' column"
   ]
  },
  {
   "cell_type": "code",
   "execution_count": 30,
   "id": "6622f8e8",
   "metadata": {},
   "outputs": [
    {
     "data": {
      "text/plain": [
       "gender                                       int64\n",
       "SeniorCitizen                                int64\n",
       "Partner                                      int64\n",
       "Dependents                                   int64\n",
       "tenure                                       int64\n",
       "PhoneService                                 int64\n",
       "MultipleLines                                int64\n",
       "OnlineSecurity                               int64\n",
       "OnlineBackup                                 int64\n",
       "DeviceProtection                             int64\n",
       "TechSupport                                  int64\n",
       "StreamingTV                                  int64\n",
       "StreamingMovies                              int64\n",
       "PaperlessBilling                             int64\n",
       "MonthlyCharges                             float64\n",
       "TotalCharges                               float64\n",
       "Churn                                        int64\n",
       "InternetService_DSL                          uint8\n",
       "InternetService_Fiber optic                  uint8\n",
       "InternetService_No                           uint8\n",
       "Contract_Month-to-month                      uint8\n",
       "Contract_One year                            uint8\n",
       "Contract_Two year                            uint8\n",
       "PaymentMethod_Bank transfer (automatic)      uint8\n",
       "PaymentMethod_Credit card (automatic)        uint8\n",
       "PaymentMethod_Electronic check               uint8\n",
       "PaymentMethod_Mailed check                   uint8\n",
       "dtype: object"
      ]
     },
     "execution_count": 30,
     "metadata": {},
     "output_type": "execute_result"
    }
   ],
   "source": [
    "#To check the datatypes of all the columns\n",
    "df.dtypes"
   ]
  },
  {
   "cell_type": "markdown",
   "id": "9df12d73",
   "metadata": {},
   "source": [
    "While most of the features have either a 1 or 0 as their value, some of the feature columns such as montly charges or tenure have a very different range.\n",
    "We now need to rescale the data that they are approximately in the same range of values.\n",
    "\n",
    "The three columns - Tenure, MonthlyCharges, TotalCharges are in different ranges. Apart from those column, every other column has values that are either 0 or 1."
   ]
  },
  {
   "cell_type": "code",
   "execution_count": 31,
   "id": "6306a0f2",
   "metadata": {},
   "outputs": [],
   "source": [
    "#Normalisation\n",
    "\n",
    "cols_to_scale = ['tenure' , 'MonthlyCharges' , 'TotalCharges']\n",
    "\n",
    "from sklearn.preprocessing import MinMaxScaler\n",
    "scaler = MinMaxScaler()\n",
    "\n",
    "df[cols_to_scale] = scaler.fit_transform(df[cols_to_scale])"
   ]
  },
  {
   "cell_type": "code",
   "execution_count": 32,
   "id": "2a59c856",
   "metadata": {},
   "outputs": [
    {
     "data": {
      "text/html": [
       "<div>\n",
       "<style scoped>\n",
       "    .dataframe tbody tr th:only-of-type {\n",
       "        vertical-align: middle;\n",
       "    }\n",
       "\n",
       "    .dataframe tbody tr th {\n",
       "        vertical-align: top;\n",
       "    }\n",
       "\n",
       "    .dataframe thead th {\n",
       "        text-align: right;\n",
       "    }\n",
       "</style>\n",
       "<table border=\"1\" class=\"dataframe\">\n",
       "  <thead>\n",
       "    <tr style=\"text-align: right;\">\n",
       "      <th></th>\n",
       "      <th>gender</th>\n",
       "      <th>SeniorCitizen</th>\n",
       "      <th>Partner</th>\n",
       "      <th>Dependents</th>\n",
       "      <th>tenure</th>\n",
       "      <th>PhoneService</th>\n",
       "      <th>MultipleLines</th>\n",
       "      <th>OnlineSecurity</th>\n",
       "      <th>OnlineBackup</th>\n",
       "      <th>DeviceProtection</th>\n",
       "      <th>...</th>\n",
       "      <th>InternetService_DSL</th>\n",
       "      <th>InternetService_Fiber optic</th>\n",
       "      <th>InternetService_No</th>\n",
       "      <th>Contract_Month-to-month</th>\n",
       "      <th>Contract_One year</th>\n",
       "      <th>Contract_Two year</th>\n",
       "      <th>PaymentMethod_Bank transfer (automatic)</th>\n",
       "      <th>PaymentMethod_Credit card (automatic)</th>\n",
       "      <th>PaymentMethod_Electronic check</th>\n",
       "      <th>PaymentMethod_Mailed check</th>\n",
       "    </tr>\n",
       "  </thead>\n",
       "  <tbody>\n",
       "    <tr>\n",
       "      <th>3613</th>\n",
       "      <td>0</td>\n",
       "      <td>1</td>\n",
       "      <td>0</td>\n",
       "      <td>0</td>\n",
       "      <td>0.760563</td>\n",
       "      <td>0</td>\n",
       "      <td>0</td>\n",
       "      <td>0</td>\n",
       "      <td>0</td>\n",
       "      <td>1</td>\n",
       "      <td>...</td>\n",
       "      <td>1</td>\n",
       "      <td>0</td>\n",
       "      <td>0</td>\n",
       "      <td>0</td>\n",
       "      <td>1</td>\n",
       "      <td>0</td>\n",
       "      <td>1</td>\n",
       "      <td>0</td>\n",
       "      <td>0</td>\n",
       "      <td>0</td>\n",
       "    </tr>\n",
       "    <tr>\n",
       "      <th>1294</th>\n",
       "      <td>0</td>\n",
       "      <td>0</td>\n",
       "      <td>0</td>\n",
       "      <td>0</td>\n",
       "      <td>0.070423</td>\n",
       "      <td>1</td>\n",
       "      <td>0</td>\n",
       "      <td>0</td>\n",
       "      <td>0</td>\n",
       "      <td>0</td>\n",
       "      <td>...</td>\n",
       "      <td>1</td>\n",
       "      <td>0</td>\n",
       "      <td>0</td>\n",
       "      <td>1</td>\n",
       "      <td>0</td>\n",
       "      <td>0</td>\n",
       "      <td>0</td>\n",
       "      <td>0</td>\n",
       "      <td>1</td>\n",
       "      <td>0</td>\n",
       "    </tr>\n",
       "    <tr>\n",
       "      <th>1893</th>\n",
       "      <td>0</td>\n",
       "      <td>0</td>\n",
       "      <td>0</td>\n",
       "      <td>1</td>\n",
       "      <td>0.211268</td>\n",
       "      <td>1</td>\n",
       "      <td>1</td>\n",
       "      <td>1</td>\n",
       "      <td>1</td>\n",
       "      <td>0</td>\n",
       "      <td>...</td>\n",
       "      <td>1</td>\n",
       "      <td>0</td>\n",
       "      <td>0</td>\n",
       "      <td>1</td>\n",
       "      <td>0</td>\n",
       "      <td>0</td>\n",
       "      <td>0</td>\n",
       "      <td>0</td>\n",
       "      <td>1</td>\n",
       "      <td>0</td>\n",
       "    </tr>\n",
       "  </tbody>\n",
       "</table>\n",
       "<p>3 rows × 27 columns</p>\n",
       "</div>"
      ],
      "text/plain": [
       "      gender  SeniorCitizen  Partner  Dependents    tenure  PhoneService  \\\n",
       "3613       0              1        0           0  0.760563             0   \n",
       "1294       0              0        0           0  0.070423             1   \n",
       "1893       0              0        0           1  0.211268             1   \n",
       "\n",
       "      MultipleLines  OnlineSecurity  OnlineBackup  DeviceProtection  ...  \\\n",
       "3613              0               0             0                 1  ...   \n",
       "1294              0               0             0                 0  ...   \n",
       "1893              1               1             1                 0  ...   \n",
       "\n",
       "      InternetService_DSL  InternetService_Fiber optic  InternetService_No  \\\n",
       "3613                    1                            0                   0   \n",
       "1294                    1                            0                   0   \n",
       "1893                    1                            0                   0   \n",
       "\n",
       "      Contract_Month-to-month  Contract_One year  Contract_Two year  \\\n",
       "3613                        0                  1                  0   \n",
       "1294                        1                  0                  0   \n",
       "1893                        1                  0                  0   \n",
       "\n",
       "      PaymentMethod_Bank transfer (automatic)  \\\n",
       "3613                                        1   \n",
       "1294                                        0   \n",
       "1893                                        0   \n",
       "\n",
       "      PaymentMethod_Credit card (automatic)  PaymentMethod_Electronic check  \\\n",
       "3613                                      0                               0   \n",
       "1294                                      0                               1   \n",
       "1893                                      0                               1   \n",
       "\n",
       "      PaymentMethod_Mailed check  \n",
       "3613                           0  \n",
       "1294                           0  \n",
       "1893                           0  \n",
       "\n",
       "[3 rows x 27 columns]"
      ]
     },
     "execution_count": 32,
     "metadata": {},
     "output_type": "execute_result"
    }
   ],
   "source": [
    "#With the help of this we can see the changed ranges for the above columns\n",
    "df.sample(3)"
   ]
  },
  {
   "cell_type": "markdown",
   "id": "0878fa07",
   "metadata": {},
   "source": [
    "Now our data is ready to be fed into a Machine Learning / Deep Learning model"
   ]
  },
  {
   "cell_type": "markdown",
   "id": "0190b06c",
   "metadata": {},
   "source": [
    "Before building our prediction model, we will split the dataset into training and testing sets and also separate the dependent and independent variables."
   ]
  },
  {
   "cell_type": "code",
   "execution_count": 33,
   "id": "2915a5f3",
   "metadata": {},
   "outputs": [],
   "source": [
    "#Split the dependent and independent features\n",
    "#Independent Features - X , Dependent Feature - y\n",
    "\n",
    "X = df.drop('Churn',axis='columns')\n",
    "y = df['Churn']"
   ]
  },
  {
   "cell_type": "code",
   "execution_count": 34,
   "id": "866f1499",
   "metadata": {},
   "outputs": [],
   "source": [
    "#Train test split\n",
    "from sklearn.model_selection import train_test_split\n",
    "X_train , X_test , y_train , y_test = train_test_split(X,y, test_size=0.2, random_state=5)"
   ]
  },
  {
   "cell_type": "code",
   "execution_count": 35,
   "id": "a6e17d27",
   "metadata": {},
   "outputs": [
    {
     "data": {
      "text/plain": [
       "(5625, 26)"
      ]
     },
     "execution_count": 35,
     "metadata": {},
     "output_type": "execute_result"
    }
   ],
   "source": [
    "X_train.shape"
   ]
  },
  {
   "cell_type": "code",
   "execution_count": 36,
   "id": "0232e5fd",
   "metadata": {},
   "outputs": [
    {
     "data": {
      "text/plain": [
       "(1407, 26)"
      ]
     },
     "execution_count": 36,
     "metadata": {},
     "output_type": "execute_result"
    }
   ],
   "source": [
    "X_test.shape"
   ]
  },
  {
   "cell_type": "code",
   "execution_count": 37,
   "id": "05bc900c",
   "metadata": {},
   "outputs": [
    {
     "data": {
      "text/html": [
       "<div>\n",
       "<style scoped>\n",
       "    .dataframe tbody tr th:only-of-type {\n",
       "        vertical-align: middle;\n",
       "    }\n",
       "\n",
       "    .dataframe tbody tr th {\n",
       "        vertical-align: top;\n",
       "    }\n",
       "\n",
       "    .dataframe thead th {\n",
       "        text-align: right;\n",
       "    }\n",
       "</style>\n",
       "<table border=\"1\" class=\"dataframe\">\n",
       "  <thead>\n",
       "    <tr style=\"text-align: right;\">\n",
       "      <th></th>\n",
       "      <th>gender</th>\n",
       "      <th>SeniorCitizen</th>\n",
       "      <th>Partner</th>\n",
       "      <th>Dependents</th>\n",
       "      <th>tenure</th>\n",
       "      <th>PhoneService</th>\n",
       "      <th>MultipleLines</th>\n",
       "      <th>OnlineSecurity</th>\n",
       "      <th>OnlineBackup</th>\n",
       "      <th>DeviceProtection</th>\n",
       "      <th>...</th>\n",
       "      <th>InternetService_DSL</th>\n",
       "      <th>InternetService_Fiber optic</th>\n",
       "      <th>InternetService_No</th>\n",
       "      <th>Contract_Month-to-month</th>\n",
       "      <th>Contract_One year</th>\n",
       "      <th>Contract_Two year</th>\n",
       "      <th>PaymentMethod_Bank transfer (automatic)</th>\n",
       "      <th>PaymentMethod_Credit card (automatic)</th>\n",
       "      <th>PaymentMethod_Electronic check</th>\n",
       "      <th>PaymentMethod_Mailed check</th>\n",
       "    </tr>\n",
       "  </thead>\n",
       "  <tbody>\n",
       "    <tr>\n",
       "      <th>3420</th>\n",
       "      <td>1</td>\n",
       "      <td>0</td>\n",
       "      <td>0</td>\n",
       "      <td>0</td>\n",
       "      <td>0.352113</td>\n",
       "      <td>1</td>\n",
       "      <td>1</td>\n",
       "      <td>1</td>\n",
       "      <td>1</td>\n",
       "      <td>0</td>\n",
       "      <td>...</td>\n",
       "      <td>1</td>\n",
       "      <td>0</td>\n",
       "      <td>0</td>\n",
       "      <td>1</td>\n",
       "      <td>0</td>\n",
       "      <td>0</td>\n",
       "      <td>1</td>\n",
       "      <td>0</td>\n",
       "      <td>0</td>\n",
       "      <td>0</td>\n",
       "    </tr>\n",
       "    <tr>\n",
       "      <th>1553</th>\n",
       "      <td>1</td>\n",
       "      <td>0</td>\n",
       "      <td>1</td>\n",
       "      <td>1</td>\n",
       "      <td>0.535211</td>\n",
       "      <td>1</td>\n",
       "      <td>0</td>\n",
       "      <td>0</td>\n",
       "      <td>0</td>\n",
       "      <td>1</td>\n",
       "      <td>...</td>\n",
       "      <td>0</td>\n",
       "      <td>1</td>\n",
       "      <td>0</td>\n",
       "      <td>1</td>\n",
       "      <td>0</td>\n",
       "      <td>0</td>\n",
       "      <td>1</td>\n",
       "      <td>0</td>\n",
       "      <td>0</td>\n",
       "      <td>0</td>\n",
       "    </tr>\n",
       "    <tr>\n",
       "      <th>3080</th>\n",
       "      <td>0</td>\n",
       "      <td>0</td>\n",
       "      <td>0</td>\n",
       "      <td>0</td>\n",
       "      <td>0.014085</td>\n",
       "      <td>0</td>\n",
       "      <td>0</td>\n",
       "      <td>0</td>\n",
       "      <td>0</td>\n",
       "      <td>0</td>\n",
       "      <td>...</td>\n",
       "      <td>1</td>\n",
       "      <td>0</td>\n",
       "      <td>0</td>\n",
       "      <td>1</td>\n",
       "      <td>0</td>\n",
       "      <td>0</td>\n",
       "      <td>0</td>\n",
       "      <td>0</td>\n",
       "      <td>0</td>\n",
       "      <td>1</td>\n",
       "    </tr>\n",
       "  </tbody>\n",
       "</table>\n",
       "<p>3 rows × 26 columns</p>\n",
       "</div>"
      ],
      "text/plain": [
       "      gender  SeniorCitizen  Partner  Dependents    tenure  PhoneService  \\\n",
       "3420       1              0        0           0  0.352113             1   \n",
       "1553       1              0        1           1  0.535211             1   \n",
       "3080       0              0        0           0  0.014085             0   \n",
       "\n",
       "      MultipleLines  OnlineSecurity  OnlineBackup  DeviceProtection  ...  \\\n",
       "3420              1               1             1                 0  ...   \n",
       "1553              0               0             0                 1  ...   \n",
       "3080              0               0             0                 0  ...   \n",
       "\n",
       "      InternetService_DSL  InternetService_Fiber optic  InternetService_No  \\\n",
       "3420                    1                            0                   0   \n",
       "1553                    0                            1                   0   \n",
       "3080                    1                            0                   0   \n",
       "\n",
       "      Contract_Month-to-month  Contract_One year  Contract_Two year  \\\n",
       "3420                        1                  0                  0   \n",
       "1553                        1                  0                  0   \n",
       "3080                        1                  0                  0   \n",
       "\n",
       "      PaymentMethod_Bank transfer (automatic)  \\\n",
       "3420                                        1   \n",
       "1553                                        1   \n",
       "3080                                        0   \n",
       "\n",
       "      PaymentMethod_Credit card (automatic)  PaymentMethod_Electronic check  \\\n",
       "3420                                      0                               0   \n",
       "1553                                      0                               0   \n",
       "3080                                      0                               0   \n",
       "\n",
       "      PaymentMethod_Mailed check  \n",
       "3420                           0  \n",
       "1553                           0  \n",
       "3080                           1  \n",
       "\n",
       "[3 rows x 26 columns]"
      ]
     },
     "execution_count": 37,
     "metadata": {},
     "output_type": "execute_result"
    }
   ],
   "source": [
    "X_train.sample(3)"
   ]
  },
  {
   "cell_type": "markdown",
   "id": "6d831d5c",
   "metadata": {},
   "source": [
    "<div style=\"background-color: #000080; padding: 10px;\">\n",
    "    <h2 style=\"color: white;\">Logistic Regression</h2>\n",
    "</div>\n",
    "<a id=\"section-4\"></a>"
   ]
  },
  {
   "cell_type": "code",
   "execution_count": 38,
   "id": "8cdfd147",
   "metadata": {},
   "outputs": [
    {
     "data": {
      "text/html": [
       "<style>#sk-container-id-1 {color: black;background-color: white;}#sk-container-id-1 pre{padding: 0;}#sk-container-id-1 div.sk-toggleable {background-color: white;}#sk-container-id-1 label.sk-toggleable__label {cursor: pointer;display: block;width: 100%;margin-bottom: 0;padding: 0.3em;box-sizing: border-box;text-align: center;}#sk-container-id-1 label.sk-toggleable__label-arrow:before {content: \"▸\";float: left;margin-right: 0.25em;color: #696969;}#sk-container-id-1 label.sk-toggleable__label-arrow:hover:before {color: black;}#sk-container-id-1 div.sk-estimator:hover label.sk-toggleable__label-arrow:before {color: black;}#sk-container-id-1 div.sk-toggleable__content {max-height: 0;max-width: 0;overflow: hidden;text-align: left;background-color: #f0f8ff;}#sk-container-id-1 div.sk-toggleable__content pre {margin: 0.2em;color: black;border-radius: 0.25em;background-color: #f0f8ff;}#sk-container-id-1 input.sk-toggleable__control:checked~div.sk-toggleable__content {max-height: 200px;max-width: 100%;overflow: auto;}#sk-container-id-1 input.sk-toggleable__control:checked~label.sk-toggleable__label-arrow:before {content: \"▾\";}#sk-container-id-1 div.sk-estimator input.sk-toggleable__control:checked~label.sk-toggleable__label {background-color: #d4ebff;}#sk-container-id-1 div.sk-label input.sk-toggleable__control:checked~label.sk-toggleable__label {background-color: #d4ebff;}#sk-container-id-1 input.sk-hidden--visually {border: 0;clip: rect(1px 1px 1px 1px);clip: rect(1px, 1px, 1px, 1px);height: 1px;margin: -1px;overflow: hidden;padding: 0;position: absolute;width: 1px;}#sk-container-id-1 div.sk-estimator {font-family: monospace;background-color: #f0f8ff;border: 1px dotted black;border-radius: 0.25em;box-sizing: border-box;margin-bottom: 0.5em;}#sk-container-id-1 div.sk-estimator:hover {background-color: #d4ebff;}#sk-container-id-1 div.sk-parallel-item::after {content: \"\";width: 100%;border-bottom: 1px solid gray;flex-grow: 1;}#sk-container-id-1 div.sk-label:hover label.sk-toggleable__label {background-color: #d4ebff;}#sk-container-id-1 div.sk-serial::before {content: \"\";position: absolute;border-left: 1px solid gray;box-sizing: border-box;top: 0;bottom: 0;left: 50%;z-index: 0;}#sk-container-id-1 div.sk-serial {display: flex;flex-direction: column;align-items: center;background-color: white;padding-right: 0.2em;padding-left: 0.2em;position: relative;}#sk-container-id-1 div.sk-item {position: relative;z-index: 1;}#sk-container-id-1 div.sk-parallel {display: flex;align-items: stretch;justify-content: center;background-color: white;position: relative;}#sk-container-id-1 div.sk-item::before, #sk-container-id-1 div.sk-parallel-item::before {content: \"\";position: absolute;border-left: 1px solid gray;box-sizing: border-box;top: 0;bottom: 0;left: 50%;z-index: -1;}#sk-container-id-1 div.sk-parallel-item {display: flex;flex-direction: column;z-index: 1;position: relative;background-color: white;}#sk-container-id-1 div.sk-parallel-item:first-child::after {align-self: flex-end;width: 50%;}#sk-container-id-1 div.sk-parallel-item:last-child::after {align-self: flex-start;width: 50%;}#sk-container-id-1 div.sk-parallel-item:only-child::after {width: 0;}#sk-container-id-1 div.sk-dashed-wrapped {border: 1px dashed gray;margin: 0 0.4em 0.5em 0.4em;box-sizing: border-box;padding-bottom: 0.4em;background-color: white;}#sk-container-id-1 div.sk-label label {font-family: monospace;font-weight: bold;display: inline-block;line-height: 1.2em;}#sk-container-id-1 div.sk-label-container {text-align: center;}#sk-container-id-1 div.sk-container {/* jupyter's `normalize.less` sets `[hidden] { display: none; }` but bootstrap.min.css set `[hidden] { display: none !important; }` so we also need the `!important` here to be able to override the default hidden behavior on the sphinx rendered scikit-learn.org. See: https://github.com/scikit-learn/scikit-learn/issues/21755 */display: inline-block !important;position: relative;}#sk-container-id-1 div.sk-text-repr-fallback {display: none;}</style><div id=\"sk-container-id-1\" class=\"sk-top-container\"><div class=\"sk-text-repr-fallback\"><pre>LogisticRegression()</pre><b>In a Jupyter environment, please rerun this cell to show the HTML representation or trust the notebook. <br />On GitHub, the HTML representation is unable to render, please try loading this page with nbviewer.org.</b></div><div class=\"sk-container\" hidden><div class=\"sk-item\"><div class=\"sk-estimator sk-toggleable\"><input class=\"sk-toggleable__control sk-hidden--visually\" id=\"sk-estimator-id-1\" type=\"checkbox\" checked><label for=\"sk-estimator-id-1\" class=\"sk-toggleable__label sk-toggleable__label-arrow\">LogisticRegression</label><div class=\"sk-toggleable__content\"><pre>LogisticRegression()</pre></div></div></div></div></div>"
      ],
      "text/plain": [
       "LogisticRegression()"
      ]
     },
     "execution_count": 38,
     "metadata": {},
     "output_type": "execute_result"
    }
   ],
   "source": [
    "from sklearn.linear_model import LogisticRegression\n",
    "model = LogisticRegression()\n",
    "\n",
    "model.fit(X_train , y_train)"
   ]
  },
  {
   "cell_type": "code",
   "execution_count": 39,
   "id": "52fb72fa",
   "metadata": {},
   "outputs": [],
   "source": [
    "#Prediction using the logistic regression model\n",
    "y_pred = model.predict(X_test)"
   ]
  },
  {
   "cell_type": "code",
   "execution_count": 40,
   "id": "49c4da01",
   "metadata": {},
   "outputs": [
    {
     "name": "stdout",
     "output_type": "stream",
     "text": [
      "Coefficients: [[ 0.06873074  0.26361519 -0.05322698 -0.10069928 -3.1656447  -0.47787628\n",
      "   0.24838067 -0.44610168 -0.1783993  -0.08593722 -0.40264358  0.27600495\n",
      "   0.24450271  0.36813108  0.06378401  1.25036126 -0.03349555  0.76354321\n",
      "  -0.73270608  0.62605427  0.06111022 -0.68982292 -0.02893924 -0.15437065\n",
      "   0.28552719 -0.10487571]]\n",
      "Intercept: [-0.80382195]\n"
     ]
    }
   ],
   "source": [
    "#This cell gives us the coefficient for each feature in the logistic regression equation.\n",
    "#There are a total of 26 features in the dataset, thus the output of the coeficients are 26 numbers each highlighting the coefficient for a single parameter.\n",
    "\n",
    "coefficients = model.coef_\n",
    "intercept = model.intercept_\n",
    "\n",
    "print(\"Coefficients:\", coefficients)\n",
    "print(\"Intercept:\", intercept)"
   ]
  },
  {
   "cell_type": "code",
   "execution_count": 41,
   "id": "49de27ad",
   "metadata": {},
   "outputs": [
    {
     "name": "stdout",
     "output_type": "stream",
     "text": [
      "              precision    recall  f1-score   support\n",
      "\n",
      "           0       0.83      0.89      0.86       999\n",
      "           1       0.68      0.56      0.61       408\n",
      "\n",
      "    accuracy                           0.79      1407\n",
      "   macro avg       0.75      0.72      0.74      1407\n",
      "weighted avg       0.79      0.79      0.79      1407\n",
      "\n"
     ]
    }
   ],
   "source": [
    "#Classification Report\n",
    "from sklearn.metrics import classification_report\n",
    "print(classification_report(y_test , y_pred))"
   ]
  },
  {
   "cell_type": "markdown",
   "id": "cee49aa0",
   "metadata": {},
   "source": [
    "In the above classification report we see that even though the accuracy of the model is equal to 0.79, the F1-score for prediction of class '1' is just equal to 0.61.\n",
    "One of the reasons that this happens can be because of the data imbalance, where we had much more data for the class '0' than class '1'."
   ]
  },
  {
   "cell_type": "code",
   "execution_count": 42,
   "id": "f7e0f88c",
   "metadata": {},
   "outputs": [
    {
     "data": {
      "image/png": "[encoded data removed]",
      "text/plain": [
       "<Figure size 640x480 with 2 Axes>"
      ]
     },
     "metadata": {},
     "output_type": "display_data"
    }
   ],
   "source": [
    "from sklearn.metrics import confusion_matrix\n",
    "matrix = confusion_matrix(y_test, y_pred)\n",
    "sns.heatmap(matrix, annot=True, fmt='d', cmap='Blues')\n",
    "\n",
    "plt.xlabel('Predicted')\n",
    "plt.ylabel('Truth')\n",
    "plt.title('Confusion Matrix')\n",
    "\n",
    "plt.show()"
   ]
  },
  {
   "cell_type": "markdown",
   "id": "77a5ed6f",
   "metadata": {},
   "source": [
    "<div style=\"background-color: #000080; padding: 10px;\">\n",
    "    <h2 style=\"color: white;\">Artificial Neural Network</h2>\n",
    "</div>\n",
    "<a id=\"section-5\"></a>"
   ]
  },
  {
   "cell_type": "code",
   "execution_count": 43,
   "id": "e14c163c",
   "metadata": {},
   "outputs": [
    {
     "name": "stdout",
     "output_type": "stream",
     "text": [
      "Model: \"sequential\"\n",
      "_________________________________________________________________\n",
      " Layer (type)                Output Shape              Param #   \n",
      "=================================================================\n",
      " dense (Dense)               (None, 32)                864       \n",
      "                                                                 \n",
      " dense_1 (Dense)             (None, 16)                528       \n",
      "                                                                 \n",
      " dense_2 (Dense)             (None, 1)                 17        \n",
      "                                                                 \n",
      "=================================================================\n",
      "Total params: 1409 (5.50 KB)\n",
      "Trainable params: 1409 (5.50 KB)\n",
      "Non-trainable params: 0 (0.00 Byte)\n",
      "_________________________________________________________________\n",
      "Epoch 1/50\n",
      "176/176 [==============================] - 1s 2ms/step - loss: 0.4774 - accuracy: 0.7710\n",
      "Epoch 2/50\n",
      "176/176 [==============================] - 0s 2ms/step - loss: 0.4227 - accuracy: 0.7995\n",
      "Epoch 3/50\n",
      "176/176 [==============================] - 0s 3ms/step - loss: 0.4168 - accuracy: 0.8043\n",
      "Epoch 4/50\n",
      "176/176 [==============================] - 0s 2ms/step - loss: 0.4130 - accuracy: 0.8041\n",
      "Epoch 5/50\n",
      "176/176 [==============================] - 0s 2ms/step - loss: 0.4099 - accuracy: 0.8089\n",
      "Epoch 6/50\n",
      "176/176 [==============================] - 0s 2ms/step - loss: 0.4085 - accuracy: 0.8075\n",
      "Epoch 7/50\n",
      "176/176 [==============================] - 0s 2ms/step - loss: 0.4074 - accuracy: 0.8091\n",
      "Epoch 8/50\n",
      "176/176 [==============================] - 0s 2ms/step - loss: 0.4043 - accuracy: 0.8103\n",
      "Epoch 9/50\n",
      "176/176 [==============================] - 0s 2ms/step - loss: 0.4035 - accuracy: 0.8108\n",
      "Epoch 10/50\n",
      "176/176 [==============================] - 0s 2ms/step - loss: 0.4018 - accuracy: 0.8110\n",
      "Epoch 11/50\n",
      "176/176 [==============================] - 0s 2ms/step - loss: 0.4006 - accuracy: 0.8139\n",
      "Epoch 12/50\n",
      "176/176 [==============================] - 0s 2ms/step - loss: 0.3996 - accuracy: 0.8140\n",
      "Epoch 13/50\n",
      "176/176 [==============================] - 0s 2ms/step - loss: 0.3972 - accuracy: 0.8160\n",
      "Epoch 14/50\n",
      "176/176 [==============================] - 0s 2ms/step - loss: 0.3963 - accuracy: 0.8148\n",
      "Epoch 15/50\n",
      "176/176 [==============================] - 0s 2ms/step - loss: 0.3960 - accuracy: 0.8126\n",
      "Epoch 16/50\n",
      "176/176 [==============================] - 0s 2ms/step - loss: 0.3944 - accuracy: 0.8149\n",
      "Epoch 17/50\n",
      "176/176 [==============================] - 0s 2ms/step - loss: 0.3932 - accuracy: 0.8162\n",
      "Epoch 18/50\n",
      "176/176 [==============================] - 0s 2ms/step - loss: 0.3923 - accuracy: 0.8162\n",
      "Epoch 19/50\n",
      "176/176 [==============================] - 0s 2ms/step - loss: 0.3927 - accuracy: 0.8156\n",
      "Epoch 20/50\n",
      "176/176 [==============================] - 0s 2ms/step - loss: 0.3896 - accuracy: 0.8213\n",
      "Epoch 21/50\n",
      "176/176 [==============================] - 0s 2ms/step - loss: 0.3894 - accuracy: 0.8187\n",
      "Epoch 22/50\n",
      "176/176 [==============================] - 0s 2ms/step - loss: 0.3881 - accuracy: 0.8176\n",
      "Epoch 23/50\n",
      "176/176 [==============================] - 0s 2ms/step - loss: 0.3866 - accuracy: 0.8196\n",
      "Epoch 24/50\n",
      "176/176 [==============================] - 0s 3ms/step - loss: 0.3860 - accuracy: 0.8188\n",
      "Epoch 25/50\n",
      "176/176 [==============================] - 0s 2ms/step - loss: 0.3857 - accuracy: 0.8181\n",
      "Epoch 26/50\n",
      "176/176 [==============================] - 0s 2ms/step - loss: 0.3838 - accuracy: 0.8180\n",
      "Epoch 27/50\n",
      "176/176 [==============================] - 0s 2ms/step - loss: 0.3824 - accuracy: 0.8181\n",
      "Epoch 28/50\n",
      "176/176 [==============================] - 0s 2ms/step - loss: 0.3825 - accuracy: 0.8212\n",
      "Epoch 29/50\n",
      "176/176 [==============================] - 0s 2ms/step - loss: 0.3814 - accuracy: 0.8203\n",
      "Epoch 30/50\n",
      "176/176 [==============================] - 0s 2ms/step - loss: 0.3809 - accuracy: 0.8208\n",
      "Epoch 31/50\n",
      "176/176 [==============================] - 0s 2ms/step - loss: 0.3808 - accuracy: 0.8213\n",
      "Epoch 32/50\n",
      "176/176 [==============================] - 0s 2ms/step - loss: 0.3792 - accuracy: 0.8244\n",
      "Epoch 33/50\n",
      "176/176 [==============================] - 0s 2ms/step - loss: 0.3786 - accuracy: 0.8249\n",
      "Epoch 34/50\n",
      "176/176 [==============================] - 0s 2ms/step - loss: 0.3769 - accuracy: 0.8247\n",
      "Epoch 35/50\n",
      "176/176 [==============================] - 0s 2ms/step - loss: 0.3772 - accuracy: 0.8219\n",
      "Epoch 36/50\n",
      "176/176 [==============================] - 0s 2ms/step - loss: 0.3768 - accuracy: 0.8236\n",
      "Epoch 37/50\n",
      "176/176 [==============================] - 0s 2ms/step - loss: 0.3753 - accuracy: 0.8245\n",
      "Epoch 38/50\n",
      "176/176 [==============================] - 0s 1ms/step - loss: 0.3740 - accuracy: 0.8242\n",
      "Epoch 39/50\n",
      "176/176 [==============================] - 0s 2ms/step - loss: 0.3752 - accuracy: 0.8256\n",
      "Epoch 40/50\n",
      "176/176 [==============================] - 0s 2ms/step - loss: 0.3714 - accuracy: 0.8263\n",
      "Epoch 41/50\n",
      "176/176 [==============================] - 0s 2ms/step - loss: 0.3727 - accuracy: 0.8267\n",
      "Epoch 42/50\n",
      "176/176 [==============================] - 0s 3ms/step - loss: 0.3727 - accuracy: 0.8277\n",
      "Epoch 43/50\n",
      "176/176 [==============================] - 0s 2ms/step - loss: 0.3722 - accuracy: 0.8267\n",
      "Epoch 44/50\n",
      "176/176 [==============================] - 0s 2ms/step - loss: 0.3708 - accuracy: 0.8284\n",
      "Epoch 45/50\n",
      "176/176 [==============================] - 0s 2ms/step - loss: 0.3712 - accuracy: 0.8238\n",
      "Epoch 46/50\n",
      "176/176 [==============================] - 0s 2ms/step - loss: 0.3698 - accuracy: 0.8263\n",
      "Epoch 47/50\n",
      "176/176 [==============================] - 0s 2ms/step - loss: 0.3687 - accuracy: 0.8260\n",
      "Epoch 48/50\n",
      "176/176 [==============================] - 0s 2ms/step - loss: 0.3672 - accuracy: 0.8300\n",
      "Epoch 49/50\n",
      "176/176 [==============================] - 0s 2ms/step - loss: 0.3684 - accuracy: 0.8276\n",
      "Epoch 50/50\n",
      "176/176 [==============================] - 0s 2ms/step - loss: 0.3667 - accuracy: 0.8281\n"
     ]
    },
    {
     "data": {
      "text/plain": [
       "<keras.src.callbacks.History at 0x1e642c98910>"
      ]
     },
     "execution_count": 43,
     "metadata": {},
     "output_type": "execute_result"
    }
   ],
   "source": [
    "#Importing TensorFlow libraries and creating a neural network model\n",
    "\n",
    "import tensorflow as tf\n",
    "from tensorflow import keras\n",
    "from keras.optimizers import Adam\n",
    "\n",
    "model = keras.Sequential([\n",
    "    keras.layers.Dense(32 , input_shape=(26 , ) , activation='relu'), #Input shape corresponds to the number of columns in X_train\n",
    "    keras.layers.Dense(16 , activation='relu'),\n",
    "    keras.layers.Dense(1 , activation='sigmoid')\n",
    "])\n",
    "\n",
    "model.compile(optimizer='adam' , loss='binary_crossentropy' , metrics = ['accuracy'])\n",
    "\n",
    "model.summary()\n",
    "\n",
    "model.fit(X_train , y_train , epochs = 50)"
   ]
  },
  {
   "cell_type": "code",
   "execution_count": 44,
   "id": "0e5fe0ce",
   "metadata": {},
   "outputs": [
    {
     "name": "stdout",
     "output_type": "stream",
     "text": [
      "44/44 [==============================] - 0s 2ms/step - loss: 0.4676 - accuracy: 0.7783\n"
     ]
    },
    {
     "data": {
      "text/plain": [
       "[0.46760785579681396, 0.778251588344574]"
      ]
     },
     "execution_count": 44,
     "metadata": {},
     "output_type": "execute_result"
    }
   ],
   "source": [
    "#Evaluating the model on X_test and y_test\n",
    "model.evaluate(X_test , y_test)"
   ]
  },
  {
   "cell_type": "code",
   "execution_count": 45,
   "id": "6204cb67",
   "metadata": {},
   "outputs": [
    {
     "name": "stdout",
     "output_type": "stream",
     "text": [
      "44/44 [==============================] - 0s 2ms/step\n",
      "Original predicted array: [[0.2761708 ]\n",
      " [0.6426826 ]\n",
      " [0.01490339]\n",
      " [0.5111631 ]\n",
      " [0.6596569 ]]\n"
     ]
    }
   ],
   "source": [
    "y_predicted = model.predict(X_test)\n",
    "print(\"Original predicted array:\" , y_predicted[:5])\n",
    "\n",
    "#The y_predicted array will have the values ranging from 0 to 1. It will at first be a 2D array. We have to first convert it to a 1D array.\n",
    "#Then we have to convert all the values present in y_predicted to either 0 or 1"
   ]
  },
  {
   "cell_type": "code",
   "execution_count": 46,
   "id": "47f40b30",
   "metadata": {},
   "outputs": [
    {
     "name": "stdout",
     "output_type": "stream",
     "text": [
      "[0, 1, 0, 1, 1, 1, 0, 1, 0, 0]\n"
     ]
    }
   ],
   "source": [
    "y_predicted_0_or_1 = []\n",
    "\n",
    "for element in y_predicted:\n",
    "  if element > 0.5:\n",
    "    y_predicted_0_or_1.append(1)\n",
    "  else:\n",
    "    y_predicted_0_or_1.append(0)\n",
    "\n",
    "print(y_predicted_0_or_1[0:10])"
   ]
  },
  {
   "cell_type": "code",
   "execution_count": 47,
   "id": "8b77e827",
   "metadata": {},
   "outputs": [
    {
     "name": "stdout",
     "output_type": "stream",
     "text": [
      "The y_test (correct answers of the predictions) list looks like -  [0, 0, 1, 1, 1, 1, 0, 0, 0, 0]\n",
      "The list for predictions made on x_test looks like -  [0, 1, 0, 1, 1, 1, 0, 1, 0, 0]\n"
     ]
    }
   ],
   "source": [
    "#Now we compare the y_test array with the y_predicted_0_or_1 list to compare the elements that the prediction got right.\n",
    "\n",
    "y_test_list = []\n",
    "\n",
    "for element in y_test[:10]:\n",
    "  y_test_list.append(element)\n",
    "\n",
    "print(\"The y_test (correct answers of the predictions) list looks like - \" , y_test_list)\n",
    "print(\"The list for predictions made on x_test looks like - \" , y_predicted_0_or_1[:10])"
   ]
  },
  {
   "cell_type": "code",
   "execution_count": 48,
   "id": "89bbd5a6",
   "metadata": {},
   "outputs": [
    {
     "name": "stdout",
     "output_type": "stream",
     "text": [
      "              precision    recall  f1-score   support\n",
      "\n",
      "           0       0.83      0.87      0.85       999\n",
      "           1       0.64      0.55      0.59       408\n",
      "\n",
      "    accuracy                           0.78      1407\n",
      "   macro avg       0.73      0.71      0.72      1407\n",
      "weighted avg       0.77      0.78      0.77      1407\n",
      "\n"
     ]
    }
   ],
   "source": [
    "#Classification Report\n",
    "from sklearn.metrics import confusion_matrix , classification_report\n",
    "print(classification_report(y_test , y_predicted_0_or_1))"
   ]
  },
  {
   "cell_type": "markdown",
   "id": "6124d13f",
   "metadata": {},
   "source": [
    "Here as well, we find that even though the accuracy is equal to 0.78, the F1-score for prediction of class '1' is just equal to 0.59, while that for class '0' is much higher at 0.85"
   ]
  },
  {
   "cell_type": "code",
   "execution_count": 49,
   "id": "fcdf4466",
   "metadata": {},
   "outputs": [
    {
     "data": {
      "text/plain": [
       "Text(33.22222222222222, 0.5, 'Truth')"
      ]
     },
     "execution_count": 49,
     "metadata": {},
     "output_type": "execute_result"
    },
    {
     "data": {
      "image/png": "[encoded data removed]",
      "text/plain": [
       "<Figure size 500x500 with 2 Axes>"
      ]
     },
     "metadata": {},
     "output_type": "display_data"
    }
   ],
   "source": [
    "#Creating a confusion matrix\n",
    "\n",
    "import seaborn as sn\n",
    "cm = tf.math.confusion_matrix(labels=y_test , predictions=y_predicted_0_or_1)\n",
    "\n",
    "plt.figure(figsize = (5,5))\n",
    "sn.heatmap(cm , annot=True , fmt='d')\n",
    "plt.xlabel('Predicted')\n",
    "plt.ylabel('Truth')"
   ]
  }
 ],
 "metadata": {
  "kernelspec": {
   "display_name": "Python 3 (ipykernel)",
   "language": "python",
   "name": "python3"
  },
  "language_info": {
   "codemirror_mode": {
    "name": "ipython",
    "version": 3
   },
   "file_extension": ".py",
   "mimetype": "text/x-python",
   "name": "python",
   "nbconvert_exporter": "python",
   "pygments_lexer": "ipython3",
   "version": "3.10.9"
  }
 },
 "nbformat": 4,
 "nbformat_minor": 5
}
